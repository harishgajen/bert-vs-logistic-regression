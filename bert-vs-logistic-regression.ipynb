{
 "cells": [
  {
   "cell_type": "markdown",
   "id": "4b50ac9c",
   "metadata": {},
   "source": [
    "# RoBERTa (BERT) vs Logistic Regression\n",
    "## Overview\n",
    "This project will be showcasing the steps to build two different emotion detection NLP models (using RoBERTa and Logistic Regression, as the title suggests). We will also be looking at factors such as the spread of the dataset, time for training, and the accuracy of both models. \n",
    "\n",
    "## Prerequisites\n",
    "If you want to run this project on your own machine, make sure to have the following items installed:\n",
    "\\\n",
    "Python and Jupyter Notebook, Tensorflow, and all Python packages imported below. \n",
    "\\\n",
    "The dataset files ('test.txt', 'train.txt', 'val.txt'), which can be found at the link in the \"Sources\" section at the end of this notebook. Take these files and put them in a subdirectory (called 'data'), relative of the directory of this notebook. "
   ]
  },
  {
   "cell_type": "markdown",
   "id": "f676045d",
   "metadata": {},
   "source": [
    "### Model 1: Logistic Regression\n",
    "We start by building the simpler model, using logistic regression. Before beginning, we import the needed packages for this first part of making the model. Then, we start by importing the dataset into Pandas DataFrames and combining them into one DataFrame, and then preprocessing the text by running some NeatText functions. Then, we'll use scikit-learn to apply Logisitic Regression. "
   ]
  },
  {
   "cell_type": "code",
   "execution_count": 1,
   "id": "59aad9bd",
   "metadata": {},
   "outputs": [],
   "source": [
    "# Imports\n",
    "import pandas as pd\n",
    "import numpy as np\n",
    "import matplotlib.pyplot as plt\n",
    "import seaborn as sns\n",
    "import neattext.functions as nfx\n",
    "import pickle"
   ]
  },
  {
   "cell_type": "code",
   "execution_count": 2,
   "id": "196dd412",
   "metadata": {},
   "outputs": [],
   "source": [
    "# Loading Dataset\n",
    "df1 = pd.read_csv('./data/test.txt', names=['text', 'emotion'], sep=';')\n",
    "df2 = pd.read_csv('./data/train.txt', names=['text', 'emotion'], sep=';')\n",
    "df3 = pd.read_csv('./data/val.txt', names=['text', 'emotion'], sep=';')"
   ]
  },
  {
   "cell_type": "code",
   "execution_count": 3,
   "id": "561408a4",
   "metadata": {},
   "outputs": [
    {
     "name": "stderr",
     "output_type": "stream",
     "text": [
      "/var/folders/cx/yt63_56d0wd52vm5byxp8c3c0000gn/T/ipykernel_12140/4176271390.py:1: FutureWarning: The frame.append method is deprecated and will be removed from pandas in a future version. Use pandas.concat instead.\n",
      "  df = df1.append(df2,ignore_index=True)\n"
     ]
    }
   ],
   "source": [
    "df = df1.append(df2,ignore_index=True)"
   ]
  },
  {
   "cell_type": "code",
   "execution_count": 4,
   "id": "14dd3b3e",
   "metadata": {},
   "outputs": [
    {
     "name": "stderr",
     "output_type": "stream",
     "text": [
      "/var/folders/cx/yt63_56d0wd52vm5byxp8c3c0000gn/T/ipykernel_12140/3193326270.py:1: FutureWarning: The frame.append method is deprecated and will be removed from pandas in a future version. Use pandas.concat instead.\n",
      "  df = df.append(df3,ignore_index=True)\n"
     ]
    }
   ],
   "source": [
    "df = df.append(df3,ignore_index=True)"
   ]
  },
  {
   "cell_type": "code",
   "execution_count": 5,
   "id": "7724ef54",
   "metadata": {},
   "outputs": [],
   "source": [
    "# Text Cleaning\n",
    "df['clean_text'] = df['text'].apply(nfx.remove_stopwords)"
   ]
  },
  {
   "cell_type": "code",
   "execution_count": 6,
   "id": "a06b177c",
   "metadata": {},
   "outputs": [],
   "source": [
    "df['clean_text'] = df['clean_text'].apply(nfx.remove_userhandles)"
   ]
  },
  {
   "cell_type": "code",
   "execution_count": 7,
   "id": "15c1bc3c",
   "metadata": {},
   "outputs": [],
   "source": [
    "df['clean_text'] = df['clean_text'].apply(nfx.remove_punctuations)"
   ]
  },
  {
   "cell_type": "code",
   "execution_count": 8,
   "id": "14918cf3",
   "metadata": {},
   "outputs": [],
   "source": [
    "# Importing ML Model\n",
    "from sklearn.linear_model import LogisticRegression\n",
    "from sklearn.naive_bayes import MultinomialNB\n",
    "\n",
    "# Vectorizer\n",
    "from sklearn.feature_extraction.text import CountVectorizer\n",
    "\n",
    "# Metrics\n",
    "from sklearn.metrics import accuracy_score,confusion_matrix,classification_report"
   ]
  },
  {
   "cell_type": "code",
   "execution_count": 9,
   "id": "a03782be",
   "metadata": {},
   "outputs": [],
   "source": [
    "# Splitting Dataset\n",
    "from sklearn.model_selection import train_test_split"
   ]
  },
  {
   "cell_type": "code",
   "execution_count": 10,
   "id": "7d9a7e09",
   "metadata": {},
   "outputs": [],
   "source": [
    "x_features = df['clean_text']\n",
    "y_labels = df['emotion']"
   ]
  },
  {
   "cell_type": "code",
   "execution_count": 11,
   "id": "b93f23e8",
   "metadata": {},
   "outputs": [],
   "source": [
    "# Vectorizer\n",
    "cv = CountVectorizer()\n",
    "X = cv.fit_transform(x_features)"
   ]
  },
  {
   "cell_type": "code",
   "execution_count": 39,
   "id": "94e0dd9c",
   "metadata": {},
   "outputs": [],
   "source": [
    "x_train,x_test_lr,y_train,y_test_lr = train_test_split(X,y_labels,test_size=0.3,random_state=42)"
   ]
  },
  {
   "cell_type": "code",
   "execution_count": 40,
   "id": "23d245ec",
   "metadata": {},
   "outputs": [
    {
     "name": "stderr",
     "output_type": "stream",
     "text": [
      "/Users/harish/programming/emotion-detection/env/lib/python3.10/site-packages/sklearn/linear_model/_logistic.py:458: ConvergenceWarning: lbfgs failed to converge (status=1):\n",
      "STOP: TOTAL NO. of ITERATIONS REACHED LIMIT.\n",
      "\n",
      "Increase the number of iterations (max_iter) or scale the data as shown in:\n",
      "    https://scikit-learn.org/stable/modules/preprocessing.html\n",
      "Please also refer to the documentation for alternative solver options:\n",
      "    https://scikit-learn.org/stable/modules/linear_model.html#logistic-regression\n",
      "  n_iter_i = _check_optimize_result(\n"
     ]
    },
    {
     "data": {
      "text/html": [
       "<style>#sk-container-id-2 {color: black;background-color: white;}#sk-container-id-2 pre{padding: 0;}#sk-container-id-2 div.sk-toggleable {background-color: white;}#sk-container-id-2 label.sk-toggleable__label {cursor: pointer;display: block;width: 100%;margin-bottom: 0;padding: 0.3em;box-sizing: border-box;text-align: center;}#sk-container-id-2 label.sk-toggleable__label-arrow:before {content: \"▸\";float: left;margin-right: 0.25em;color: #696969;}#sk-container-id-2 label.sk-toggleable__label-arrow:hover:before {color: black;}#sk-container-id-2 div.sk-estimator:hover label.sk-toggleable__label-arrow:before {color: black;}#sk-container-id-2 div.sk-toggleable__content {max-height: 0;max-width: 0;overflow: hidden;text-align: left;background-color: #f0f8ff;}#sk-container-id-2 div.sk-toggleable__content pre {margin: 0.2em;color: black;border-radius: 0.25em;background-color: #f0f8ff;}#sk-container-id-2 input.sk-toggleable__control:checked~div.sk-toggleable__content {max-height: 200px;max-width: 100%;overflow: auto;}#sk-container-id-2 input.sk-toggleable__control:checked~label.sk-toggleable__label-arrow:before {content: \"▾\";}#sk-container-id-2 div.sk-estimator input.sk-toggleable__control:checked~label.sk-toggleable__label {background-color: #d4ebff;}#sk-container-id-2 div.sk-label input.sk-toggleable__control:checked~label.sk-toggleable__label {background-color: #d4ebff;}#sk-container-id-2 input.sk-hidden--visually {border: 0;clip: rect(1px 1px 1px 1px);clip: rect(1px, 1px, 1px, 1px);height: 1px;margin: -1px;overflow: hidden;padding: 0;position: absolute;width: 1px;}#sk-container-id-2 div.sk-estimator {font-family: monospace;background-color: #f0f8ff;border: 1px dotted black;border-radius: 0.25em;box-sizing: border-box;margin-bottom: 0.5em;}#sk-container-id-2 div.sk-estimator:hover {background-color: #d4ebff;}#sk-container-id-2 div.sk-parallel-item::after {content: \"\";width: 100%;border-bottom: 1px solid gray;flex-grow: 1;}#sk-container-id-2 div.sk-label:hover label.sk-toggleable__label {background-color: #d4ebff;}#sk-container-id-2 div.sk-serial::before {content: \"\";position: absolute;border-left: 1px solid gray;box-sizing: border-box;top: 0;bottom: 0;left: 50%;z-index: 0;}#sk-container-id-2 div.sk-serial {display: flex;flex-direction: column;align-items: center;background-color: white;padding-right: 0.2em;padding-left: 0.2em;position: relative;}#sk-container-id-2 div.sk-item {position: relative;z-index: 1;}#sk-container-id-2 div.sk-parallel {display: flex;align-items: stretch;justify-content: center;background-color: white;position: relative;}#sk-container-id-2 div.sk-item::before, #sk-container-id-2 div.sk-parallel-item::before {content: \"\";position: absolute;border-left: 1px solid gray;box-sizing: border-box;top: 0;bottom: 0;left: 50%;z-index: -1;}#sk-container-id-2 div.sk-parallel-item {display: flex;flex-direction: column;z-index: 1;position: relative;background-color: white;}#sk-container-id-2 div.sk-parallel-item:first-child::after {align-self: flex-end;width: 50%;}#sk-container-id-2 div.sk-parallel-item:last-child::after {align-self: flex-start;width: 50%;}#sk-container-id-2 div.sk-parallel-item:only-child::after {width: 0;}#sk-container-id-2 div.sk-dashed-wrapped {border: 1px dashed gray;margin: 0 0.4em 0.5em 0.4em;box-sizing: border-box;padding-bottom: 0.4em;background-color: white;}#sk-container-id-2 div.sk-label label {font-family: monospace;font-weight: bold;display: inline-block;line-height: 1.2em;}#sk-container-id-2 div.sk-label-container {text-align: center;}#sk-container-id-2 div.sk-container {/* jupyter's `normalize.less` sets `[hidden] { display: none; }` but bootstrap.min.css set `[hidden] { display: none !important; }` so we also need the `!important` here to be able to override the default hidden behavior on the sphinx rendered scikit-learn.org. See: https://github.com/scikit-learn/scikit-learn/issues/21755 */display: inline-block !important;position: relative;}#sk-container-id-2 div.sk-text-repr-fallback {display: none;}</style><div id=\"sk-container-id-2\" class=\"sk-top-container\"><div class=\"sk-text-repr-fallback\"><pre>LogisticRegression()</pre><b>In a Jupyter environment, please rerun this cell to show the HTML representation or trust the notebook. <br />On GitHub, the HTML representation is unable to render, please try loading this page with nbviewer.org.</b></div><div class=\"sk-container\" hidden><div class=\"sk-item\"><div class=\"sk-estimator sk-toggleable\"><input class=\"sk-toggleable__control sk-hidden--visually\" id=\"sk-estimator-id-2\" type=\"checkbox\" checked><label for=\"sk-estimator-id-2\" class=\"sk-toggleable__label sk-toggleable__label-arrow\">LogisticRegression</label><div class=\"sk-toggleable__content\"><pre>LogisticRegression()</pre></div></div></div></div></div>"
      ],
      "text/plain": [
       "LogisticRegression()"
      ]
     },
     "execution_count": 40,
     "metadata": {},
     "output_type": "execute_result"
    }
   ],
   "source": [
    "lr_model = LogisticRegression()\n",
    "lr_model.fit(x_train,y_train)"
   ]
  },
  {
   "cell_type": "code",
   "execution_count": 41,
   "id": "8bf57c7f",
   "metadata": {},
   "outputs": [
    {
     "data": {
      "text/plain": [
       "0.885"
      ]
     },
     "execution_count": 41,
     "metadata": {},
     "output_type": "execute_result"
    }
   ],
   "source": [
    "lr_model.score(x_test_lr,y_test_lr)"
   ]
  },
  {
   "cell_type": "code",
   "execution_count": 15,
   "id": "3fa58f4f",
   "metadata": {},
   "outputs": [],
   "source": [
    "# Make a prediction\n",
    "sample_text = [\"I'm a bit mad\"]"
   ]
  },
  {
   "cell_type": "code",
   "execution_count": 16,
   "id": "d06521ae",
   "metadata": {},
   "outputs": [],
   "source": [
    "vect = cv.transform(sample_text).toarray()"
   ]
  },
  {
   "cell_type": "code",
   "execution_count": 17,
   "id": "b1fd1d43",
   "metadata": {},
   "outputs": [
    {
     "data": {
      "text/plain": [
       "array(['anger'], dtype=object)"
      ]
     },
     "execution_count": 17,
     "metadata": {},
     "output_type": "execute_result"
    }
   ],
   "source": [
    "lr_model.predict(vect)"
   ]
  },
  {
   "cell_type": "code",
   "execution_count": 18,
   "id": "db5418c3",
   "metadata": {},
   "outputs": [],
   "source": [
    "# Saving model and vectorizer\n",
    "pickle.dump(lr_model, open('lr_model.sav', 'wb'))\n",
    "pickle.dump(cv, open('vectorizer.pickle', 'wb'))"
   ]
  },
  {
   "cell_type": "markdown",
   "id": "c64d7494",
   "metadata": {},
   "source": [
    "## Model 2: RoBERTa\n",
    "We will now following the same series of steps, with changes in our approach, to build a model based off of RoBERTa. "
   ]
  },
  {
   "cell_type": "code",
   "execution_count": 19,
   "id": "f4265315",
   "metadata": {},
   "outputs": [
    {
     "name": "stderr",
     "output_type": "stream",
     "text": [
      "[nltk_data] Downloading package stopwords to\n",
      "[nltk_data]     /Users/harish/nltk_data...\n",
      "[nltk_data]   Package stopwords is already up-to-date!\n",
      "[nltk_data] Downloading package wordnet to /Users/harish/nltk_data...\n",
      "[nltk_data]   Package wordnet is already up-to-date!\n"
     ]
    }
   ],
   "source": [
    "# Imports\n",
    "import numpy as np\n",
    "import pandas as pd\n",
    "import nltk\n",
    "nltk.download('stopwords')\n",
    "nltk.download('wordnet')\n",
    "from nltk.corpus import stopwords\n",
    "from nltk.stem import WordNetLemmatizer\n",
    "import contractions\n",
    "import re\n",
    "import tensorflow as tf\n",
    "from tensorflow.keras.optimizers.legacy import Adam\n",
    "import matplotlib.pyplot as plt\n",
    "import seaborn as sns\n",
    "import neattext.functions as nfx\n",
    "from sklearn.model_selection import train_test_split"
   ]
  },
  {
   "cell_type": "code",
   "execution_count": 20,
   "id": "a331433a",
   "metadata": {},
   "outputs": [],
   "source": [
    "train_data = pd.read_csv('./data/train.txt', names=['text', 'emotion'], sep=';')\n",
    "val_data = pd.read_csv('./data/val.txt', names=['text', 'emotion'], sep=';')\n",
    "test_data = pd.read_csv('./data/test.txt', names=['text', 'emotion'], sep=';')"
   ]
  },
  {
   "cell_type": "code",
   "execution_count": 21,
   "id": "afcb7288",
   "metadata": {},
   "outputs": [
    {
     "data": {
      "text/plain": [
       "0"
      ]
     },
     "execution_count": 21,
     "metadata": {},
     "output_type": "execute_result"
    }
   ],
   "source": [
    "# Checking for null values in the dataset\n",
    "train_data['emotion'].isnull().sum()\n",
    "val_data['emotion'].isnull().sum()\n",
    "test_data['emotion'].isnull().sum()"
   ]
  },
  {
   "cell_type": "code",
   "execution_count": 22,
   "id": "5aa0b03f",
   "metadata": {},
   "outputs": [],
   "source": [
    "# Pre-Processing\n",
    "def preprocess(text):\n",
    "    stop_words = set(stopwords.words('english'))\n",
    "    lemmatizer = WordNetLemmatizer()\n",
    "    text = re.sub('[^A-z]', ' ', text)\n",
    "    negative = ['not', 'neither', 'nor', 'but', 'however', 'although', 'nonetheless', 'despite', 'except', 'even though', 'yet']\n",
    "    stop_words = [word for word in stop_words if word not in negative]\n",
    "    preprocessed_tokens = [lemmatizer.lemmatize(contractions.fix(temp.lower())) for temp in text.split() if temp not in stop_words and temp[0] != \"[\"]\n",
    "    return ' '.join([x for x in preprocessed_tokens]).strip()"
   ]
  },
  {
   "cell_type": "code",
   "execution_count": 23,
   "id": "d3fce074",
   "metadata": {},
   "outputs": [],
   "source": [
    "train_data['text'] = train_data['text'].apply(lambda x: preprocess(x))\n",
    "val_data['text'] = val_data['text'].apply(lambda x: preprocess(x))\n",
    "test_data['text'] = test_data['text'].apply(lambda x: preprocess(x))"
   ]
  },
  {
   "cell_type": "code",
   "execution_count": 24,
   "id": "247a902a",
   "metadata": {},
   "outputs": [],
   "source": [
    "# Adding repetition to all classes except the highest frequency class\n",
    "from imblearn.over_sampling import RandomOverSampler\n",
    "ros = RandomOverSampler(random_state=0)\n",
    "train_x, train_y = ros.fit_resample(np.array(train_data['text']).reshape(-1,1), np.array(train_data['emotion']).reshape(-1,1))\n",
    "train = pd.DataFrame(list(zip([x[0] for x in train_x], train_y)), columns = ['text', 'emotion'])"
   ]
  },
  {
   "cell_type": "code",
   "execution_count": 25,
   "id": "8d8aeeae",
   "metadata": {},
   "outputs": [],
   "source": [
    "# Test\n",
    "from imblearn.over_sampling import RandomOverSampler\n",
    "ros = RandomOverSampler(random_state=0)\n",
    "train_x, train_y = ros.fit_resample(np.array(train_data['text']).reshape(-1, 1), np.array(train_data['emotion']).reshape(-1, 1))\n",
    "train = pd.DataFrame(list(zip([x[0] for x in train_x], train_y)), columns = ['text', 'emotion'])"
   ]
  },
  {
   "cell_type": "code",
   "execution_count": 26,
   "id": "8bd0bcef",
   "metadata": {},
   "outputs": [
    {
     "data": {
      "text/plain": [
       "array([[0., 0., 0., 0., 1., 0.],\n",
       "       [0., 0., 0., 0., 1., 0.],\n",
       "       [1., 0., 0., 0., 0., 0.],\n",
       "       ...,\n",
       "       [0., 0., 0., 0., 0., 1.],\n",
       "       [0., 0., 0., 0., 0., 1.],\n",
       "       [0., 0., 0., 0., 0., 1.]])"
      ]
     },
     "execution_count": 26,
     "metadata": {},
     "output_type": "execute_result"
    }
   ],
   "source": [
    "# Adding OneHotEncoder\n",
    "from sklearn import preprocessing\n",
    "le = preprocessing.OneHotEncoder()\n",
    "y_train = le.fit_transform(np.array(train['emotion']).reshape(-1,1)).toarray()\n",
    "y_test = le.fit_transform(np.array(test_data['emotion']).reshape(-1,1)).toarray()\n",
    "y_val = le.fit_transform(np.array(val_data['emotion']).reshape(-1,1)).toarray()\n",
    "y_train"
   ]
  },
  {
   "cell_type": "code",
   "execution_count": 27,
   "id": "587d4cf1",
   "metadata": {},
   "outputs": [],
   "source": [
    "# Encoding\n",
    "from transformers import RobertaTokenizerFast\n",
    "tokenizer = RobertaTokenizerFast.from_pretrained('roberta-base')"
   ]
  },
  {
   "cell_type": "code",
   "execution_count": 28,
   "id": "2bf92d35",
   "metadata": {},
   "outputs": [],
   "source": [
    "def roberta_encode(data,maximum_length):\n",
    "    input_ids = []\n",
    "    attention_masks = []\n",
    "    \n",
    "    for i in range(len(data.text)):\n",
    "        encoded = tokenizer.encode_plus(\n",
    "            data.text[i],\n",
    "            add_special_tokens=True,\n",
    "            max_length=maximum_length,\n",
    "            pad_to_max_length=True,\n",
    "            return_attention_mask=True,\n",
    "        )\n",
    "        input_ids.append(encoded['input_ids'])\n",
    "        attention_masks.append(encoded['attention_mask'])\n",
    "    return np.array(input_ids),np.array(attention_masks)"
   ]
  },
  {
   "cell_type": "code",
   "execution_count": 29,
   "id": "1acb8d5b",
   "metadata": {},
   "outputs": [
    {
     "name": "stderr",
     "output_type": "stream",
     "text": [
      "Truncation was not explicitly activated but `max_length` is provided a specific value, please use `truncation=True` to explicitly truncate examples to max length. Defaulting to 'longest_first' truncation strategy. If you encode pairs of sequences (GLUE-style) with the tokenizer you can select this strategy more precisely by providing a specific strategy to `truncation`.\n",
      "/Users/harish/programming/emotion-detection/env/lib/python3.10/site-packages/transformers/tokenization_utils_base.py:2336: FutureWarning: The `pad_to_max_length` argument is deprecated and will be removed in a future version, use `padding=True` or `padding='longest'` to pad to the longest sequence in the batch, or use `padding='max_length'` to pad to a max length. In this case, you can give a specific length with `max_length` (e.g. `max_length=45`) or leave max_length to None to pad to the maximal input size of the model (e.g. 512 for Bert).\n",
      "  warnings.warn(\n"
     ]
    },
    {
     "data": {
      "text/plain": [
       "numpy.ndarray"
      ]
     },
     "execution_count": 29,
     "metadata": {},
     "output_type": "execute_result"
    }
   ],
   "source": [
    "max_len = max([len(x.split()) for x in train_data['text']])\n",
    "train_input_ids,train_attention_masks = roberta_encode(train,max_len)\n",
    "test_input_ids,test_attention_masks = roberta_encode(test_data,max_len)\n",
    "val_input_ids,val_attention_masks = roberta_encode(val_data,max_len)\n",
    "type(test_input_ids)"
   ]
  },
  {
   "cell_type": "code",
   "execution_count": 30,
   "id": "a75f3178",
   "metadata": {},
   "outputs": [],
   "source": [
    "# Creating Model\n",
    "def create_model(bert_model, max_len):\n",
    "    input_ids = tf.keras.Input(shape=(max_len,),dtype='int32')\n",
    "    attention_masks = tf.keras.Input(shape=(max_len,),dtype='int32')\n",
    "    \n",
    "    output = bert_model([input_ids,attention_masks])\n",
    "    output = output[1]\n",
    "    \n",
    "    output = tf.keras.layers.Dense(6,activation='softmax')(output)\n",
    "    model = tf.keras.models.Model(inputs = [input_ids,attention_masks],outputs = output)\n",
    "    #model.compile(loss='sparse_categorical_crossentropy',optimizer='adam',metrics=['accuracy'])\n",
    "    model.compile(Adam(learning_rate=1e-5),loss='categorical_crossentropy',metrics=['accuracy'])\n",
    "    return model"
   ]
  },
  {
   "cell_type": "code",
   "execution_count": 31,
   "id": "d102badb",
   "metadata": {},
   "outputs": [
    {
     "name": "stderr",
     "output_type": "stream",
     "text": [
      "2023-01-13 13:23:34.744882: I tensorflow/core/common_runtime/pluggable_device/pluggable_device_factory.cc:306] Could not identify NUMA node of platform GPU ID 0, defaulting to 0. Your kernel may not have been built with NUMA support.\n",
      "2023-01-13 13:23:34.745082: I tensorflow/core/common_runtime/pluggable_device/pluggable_device_factory.cc:272] Created TensorFlow device (/job:localhost/replica:0/task:0/device:GPU:0 with 0 MB memory) -> physical PluggableDevice (device: 0, name: METAL, pci bus id: <undefined>)\n"
     ]
    },
    {
     "name": "stdout",
     "output_type": "stream",
     "text": [
      "Metal device set to: Apple M1 Pro\n"
     ]
    },
    {
     "name": "stderr",
     "output_type": "stream",
     "text": [
      "Some layers from the model checkpoint at roberta-base were not used when initializing TFRobertaModel: ['lm_head']\n",
      "- This IS expected if you are initializing TFRobertaModel from the checkpoint of a model trained on another task or with another architecture (e.g. initializing a BertForSequenceClassification model from a BertForPreTraining model).\n",
      "- This IS NOT expected if you are initializing TFRobertaModel from the checkpoint of a model that you expect to be exactly identical (initializing a BertForSequenceClassification model from a BertForSequenceClassification model).\n",
      "All the layers of TFRobertaModel were initialized from the model checkpoint at roberta-base.\n",
      "If your task is similar to the task the model of the checkpoint was trained on, you can already use TFRobertaModel for predictions without further training.\n"
     ]
    }
   ],
   "source": [
    "from transformers import TFRobertaModel\n",
    "roberta_model = TFRobertaModel.from_pretrained('roberta-base')"
   ]
  },
  {
   "cell_type": "code",
   "execution_count": 32,
   "id": "e0ddcc48",
   "metadata": {},
   "outputs": [
    {
     "name": "stdout",
     "output_type": "stream",
     "text": [
      "Model: \"model\"\n",
      "__________________________________________________________________________________________________\n",
      " Layer (type)                   Output Shape         Param #     Connected to                     \n",
      "==================================================================================================\n",
      " input_1 (InputLayer)           [(None, 43)]         0           []                               \n",
      "                                                                                                  \n",
      " input_2 (InputLayer)           [(None, 43)]         0           []                               \n",
      "                                                                                                  \n",
      " tf_roberta_model (TFRobertaMod  TFBaseModelOutputWi  124645632  ['input_1[0][0]',                \n",
      " el)                            thPoolingAndCrossAt               'input_2[0][0]']                \n",
      "                                tentions(last_hidde                                               \n",
      "                                n_state=(None, 43,                                                \n",
      "                                768),                                                             \n",
      "                                 pooler_output=(Non                                               \n",
      "                                e, 768),                                                          \n",
      "                                 past_key_values=No                                               \n",
      "                                ne, hidden_states=N                                               \n",
      "                                one, attentions=Non                                               \n",
      "                                e, cross_attentions                                               \n",
      "                                =None)                                                            \n",
      "                                                                                                  \n",
      " dense (Dense)                  (None, 6)            4614        ['tf_roberta_model[0][1]']       \n",
      "                                                                                                  \n",
      "==================================================================================================\n",
      "Total params: 124,650,246\n",
      "Trainable params: 124,650,246\n",
      "Non-trainable params: 0\n",
      "__________________________________________________________________________________________________\n"
     ]
    }
   ],
   "source": [
    "model = create_model(roberta_model, max_len)\n",
    "model.summary()"
   ]
  },
  {
   "cell_type": "code",
   "execution_count": 33,
   "id": "da8c4088",
   "metadata": {},
   "outputs": [
    {
     "name": "stdout",
     "output_type": "stream",
     "text": [
      "Epoch 1/4\n"
     ]
    },
    {
     "name": "stderr",
     "output_type": "stream",
     "text": [
      "2023-01-13 13:23:37.922495: W tensorflow/tsl/platform/profile_utils/cpu_utils.cc:128] Failed to get CPU frequency: 0 Hz\n",
      "2023-01-13 13:23:43.905974: I tensorflow/core/grappler/optimizers/custom_graph_optimizer_registry.cc:114] Plugin optimizer for device_type GPU is enabled.\n"
     ]
    },
    {
     "name": "stdout",
     "output_type": "stream",
     "text": [
      "322/322 [==============================] - ETA: 0s - loss: 0.9896 - accuracy: 0.6026"
     ]
    },
    {
     "name": "stderr",
     "output_type": "stream",
     "text": [
      "2023-01-13 13:30:38.450139: I tensorflow/core/grappler/optimizers/custom_graph_optimizer_registry.cc:114] Plugin optimizer for device_type GPU is enabled.\n"
     ]
    },
    {
     "name": "stdout",
     "output_type": "stream",
     "text": [
      "322/322 [==============================] - 430s 1s/step - loss: 0.9896 - accuracy: 0.6026 - val_loss: 0.3535 - val_accuracy: 0.8870\n",
      "Epoch 2/4\n",
      "322/322 [==============================] - 420s 1s/step - loss: 0.2612 - accuracy: 0.9092 - val_loss: 0.2445 - val_accuracy: 0.9230\n",
      "Epoch 3/4\n",
      "322/322 [==============================] - 422s 1s/step - loss: 0.1858 - accuracy: 0.9325 - val_loss: 0.2192 - val_accuracy: 0.9290\n",
      "Epoch 4/4\n",
      "322/322 [==============================] - 420s 1s/step - loss: 0.1491 - accuracy: 0.9432 - val_loss: 0.1892 - val_accuracy: 0.9335\n"
     ]
    }
   ],
   "source": [
    "# Training Model (I ran 1 epoch for speed reasons, but increase this to 4+ epochs for higher accuracy)\n",
    "history = model.fit([train_input_ids,train_attention_masks], y_train, validation_data=([val_input_ids,val_attention_masks], y_val),\n",
    "                   epochs=4,batch_size=100)"
   ]
  },
  {
   "cell_type": "code",
   "execution_count": 34,
   "id": "6021a453",
   "metadata": {},
   "outputs": [],
   "source": [
    "# Saving Weights\n",
    "model.save_weights('roberta_emotion_1')"
   ]
  },
  {
   "cell_type": "markdown",
   "id": "94f16b22",
   "metadata": {},
   "source": [
    "## Comparisons\n",
    "Now that both models have been created, it is time to compare the two! We will start by looking at training time, then graphing the spread of emotions in the dataset, then plotting accuracy graphs of the model, and finally calculating the F1 scores of the two models and comparing their accuracies. \n",
    "\\\n",
    "One factor to consider is training time and resource consumption of the two models. When training the logistic regression model, it only took a matter of seconds, while training four epochs of the RoBERTa-based model took about 26 minutes on my machine. While this is still not a very long time, when using larger datasets, which RoBERTa requires to be more accurate, it can take dozens of hours to train, while logistic regression may just take a higher number of seconds.\n",
    "\\\n",
    "Similarly, when applying the model, logistic regression is much faster and has a lighter load on the machine, while RoBERTa takes a bit of time. Thus, when developing an application that needs to call on the model frequently and return the result to the user, logistic regression would likely be a better choice. "
   ]
  },
  {
   "cell_type": "code",
   "execution_count": 35,
   "id": "1de4a54e",
   "metadata": {},
   "outputs": [
    {
     "data": {
      "text/plain": [
       "<function matplotlib.pyplot.show(close=None, block=None)>"
      ]
     },
     "execution_count": 35,
     "metadata": {},
     "output_type": "execute_result"
    },
    {
     "data": {
      "image/png": "[encoded data removed]",
      "text/plain": [
       "<Figure size 1500x1000 with 1 Axes>"
      ]
     },
     "metadata": {},
     "output_type": "display_data"
    }
   ],
   "source": [
    "# Plotting graph of dataset spread (number of occurrences of each emotion)\n",
    "plt.figure(figsize=(15,10))\n",
    "sns.countplot(x='emotion',data=df)\n",
    "plt.show"
   ]
  },
  {
   "cell_type": "code",
   "execution_count": 36,
   "id": "08b212de",
   "metadata": {},
   "outputs": [
    {
     "name": "stderr",
     "output_type": "stream",
     "text": [
      "2023-01-13 13:51:54.328871: I tensorflow/core/grappler/optimizers/custom_graph_optimizer_registry.cc:114] Plugin optimizer for device_type GPU is enabled.\n"
     ]
    },
    {
     "name": "stdout",
     "output_type": "stream",
     "text": [
      "63/63 [==============================] - 26s 320ms/step\n"
     ]
    }
   ],
   "source": [
    "# Accuracy and F1 Score\n",
    "result = model.predict([test_input_ids,test_attention_masks])\n",
    "y_pred = np.zeros_like(result)\n",
    "y_pred[np.arange(len(result)),result.argmax(1)] = 1"
   ]
  },
  {
   "cell_type": "code",
   "execution_count": 42,
   "id": "b071985f",
   "metadata": {},
   "outputs": [
    {
     "name": "stdout",
     "output_type": "stream",
     "text": [
      "Accuracy of Logistic Regression model 0.885\n",
      "Accuracy of RoBERTa model 0.9245\n",
      "F1 Score of RoBERTA model: 0.890108061935523\n"
     ]
    }
   ],
   "source": [
    "from sklearn.metrics import accuracy_score, f1_score\n",
    "accuracy_lr = lr_model.score(x_test_lr,y_test_lr)\n",
    "accuracy_roberta = accuracy_score(y_test,y_pred)\n",
    "print('Accuracy of Logistic Regression model', accuracy_lr)\n",
    "print('Accuracy of RoBERTa model', accuracy_roberta)\n",
    "f1 = f1_score(y_test, y_pred, average = 'macro')\n",
    "print('F1 Score of RoBERTA model:', f1)"
   ]
  },
  {
   "cell_type": "markdown",
   "id": "562517ce",
   "metadata": {},
   "source": [
    "## Conclusion\n",
    "- RoBERTa is a more complex model, that takes longer to train and use, but results in getting more accurate results. \n",
    "- Logistic Regression is faster in both training and applying, but may be a bit less accurate as a tradeoff. \n",
    "- Both models have their benefits and drawbacks, and different usecases may govern which one to go with. If you need a really accurate model that you are periodically going to call, RoBERTa is the one to go with. If you need something fast, logistic regression may be the way to go. \n",
    "\n",
    "Sources:\n",
    "\\\n",
    "Dataset: https://www.kaggle.com/datasets/praveengovi/emotions-dataset-for-nlp\n",
    "\\\n",
    "RoBERTa Model: https://www.kaggle.com/code/dhruv1234/emotion-classification-roberta/notebook"
   ]
  }
 ],
 "metadata": {
  "kernelspec": {
   "display_name": "Python 3 (ipykernel)",
   "language": "python",
   "name": "python3"
  },
  "language_info": {
   "codemirror_mode": {
    "name": "ipython",
    "version": 3
   },
   "file_extension": ".py",
   "mimetype": "text/x-python",
   "name": "python",
   "nbconvert_exporter": "python",
   "pygments_lexer": "ipython3",
   "version": "3.10.8"
  }
 },
 "nbformat": 4,
 "nbformat_minor": 5
}
